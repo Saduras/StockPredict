{
 "cells": [
  {
   "cell_type": "code",
   "metadata": {},
   "outputs": [],
   "source": [
    "from pandas_datareader import data\n",
    "import pandas as pd\n",
    "import numpy as np\n",
    "from sklearn.svm import SVR\n",
    "import matplotlib.pyplot as plt\n",
    "import datetime\n",
    "\n",
    "plt.switch_backend('TkAgg')\n",
    "\n",
    "%matplotlib inline"
   ]
  },
  {
   "cell_type": "code",
   "metadata": {},
   "outputs": [],
   "source": [
    "end_date = datetime.date.today()\n",
    "start_date = end_date - datetime.timedelta( days = 60 )"
   ]
  },
  {
   "cell_type": "code",
   "metadata": {},
   "outputs": [],
   "source": [
    "dataframe = data.DataReader('WIKI/AAPL', 'quandl', start_date, end_date)\n",
    "dataframe.head()"
   ]
  },
  {
   "cell_type": "code",
   "metadata": {},
   "outputs": [],
   "source": [
    "def predict_prices(train, test):\n",
    "    \n",
    "    \n",
    "    \n",
    "    \n",
    "    \n",
    "    plt.scatter(test['dates'], test['prices'], color='black', label='Data')\n",
    "    plt.plot(test['dates'], svr_lin.predict(test['dates']), color='red', label='Linear model')\n",
    "    plt.plot(test['dates'], svr_poly.predict(test['dates']), color='green', label='Polynomial model')\n",
    "    plt.plot(test['dates'], svr_rbf.predict(test['dates']), color='blue', label='RBF model')\n",
    "    plt.xlabel('Date')\n",
    "    plt.ylabel('Price')\n",
    "    plt.title('Support Vector Regression on test set')\n",
    "    plt.legend()\n",
    "    plt.show()"
   ]
  },
  {
   "cell_type": "code",
   "metadata": {},
   "outputs": [],
   "source": [
    "def to_day(date):\n",
    "    delta = date - np.datetime64(start_date)\n",
    "    return delta.astype('timedelta64[D]') / np.timedelta64(1,'[D]')"
   ]
  },
  {
   "cell_type": "code",
   "metadata": {},
   "outputs": [],
   "source": [
    "dates = np.array([to_day(x) for x in dataframe.index.get_values()])\n",
    "prices = dataframe.as_matrix(['Open'])\n",
    "\n",
    "dates = np.flip(dates,0)\n",
    "prices = np.flip(prices,0)\n",
    "\n",
    "training_samples = int(len(dates) * 0.8);\n",
    "train = {'dates': dates[:training_samples], 'prices': prices[:training_samples]}\n",
    "test = {'dates': dates[training_samples:], 'prices': prices[training_samples:]}"
   ]
  },
  {
   "cell_type": "code",
   "metadata": {},
   "outputs": [],
   "source": [
    "dates = np.reshape(train['dates'], (len(train['dates']), 1))\n",
    "prices = np.reshape(train['prices'], (len(train['prices']),))\n",
    "\n",
    "svr_lin = SVR(kernel = 'linear', C=1e3)\n",
    "svr_poly = SVR(kernel = 'poly', C=1e3, degree = 2)\n",
    "svr_rbf = SVR(kernel ='rbf', C =1e3, gamma = 0.1)\n",
    "\n",
    "svr_lin.fit(dates, prices)\n",
    "svr_poly.fit(dates, prices)\n",
    "svr_rbf.fit(dates, prices)"
   ]
  },
  {
   "cell_type": "code",
   "metadata": {},
   "outputs": [],
   "source": [
    "# plot training data\n",
    "plt.scatter(dates, prices, color='black', label='Data')\n",
    "plt.plot(dates, svr_lin.predict(dates), color='red', label='Linear model')\n",
    "plt.plot(dates, svr_poly.predict(dates), color='green', label='Polynomial model')\n",
    "plt.plot(dates, svr_rbf.predict(dates), color='blue', label='RBF model')\n",
    "plt.xlabel('Date')\n",
    "plt.ylabel('Price')\n",
    "plt.title('Support Vector Regression on training set')\n",
    "plt.legend()\n",
    "plt.show()"
   ]
  },
  {
   "cell_type": "code",
   "metadata": {},
   "outputs": [],
   "source": [
    "test['dates'] = np.reshape(test['dates'], (len(test['dates']), 1))\n",
    "test['prices'] = np.reshape(test['prices'], (len(test['prices']),))\n",
    "\n",
    "# plot test data\n",
    "plt.scatter(test['dates'], test['prices'], color='black', label='Data')\n",
    "plt.plot(test['dates'], svr_lin.predict(test['dates']), color='red', label='Linear model')\n",
    "plt.plot(test['dates'], svr_poly.predict(test['dates']), color='green', label='Polynomial model')\n",
    "plt.plot(test['dates'], svr_rbf.predict(test['dates']), color='blue', label='RBF model')\n",
    "plt.xlabel('Date')\n",
    "plt.ylabel('Price')\n",
    "plt.title('Support Vector Regression on test set')\n",
    "plt.legend()\n",
    "plt.show()"
   ]
  },
  {
   "cell_type": "code",
   "metadata": {},
   "outputs": [],
   "source": []
  }
 ],
 "metadata": {
  "git": {
   "suppress_outputs": true
  },
  "kernelspec": {
   "display_name": "Python 3",
   "language": "python",
   "name": "python3"
  },
  "language_info": {
   "codemirror_mode": {
    "name": "ipython",
    "version": 3
   },
   "file_extension": ".py",
   "mimetype": "text/x-python",
   "name": "python",
   "nbconvert_exporter": "python",
   "pygments_lexer": "ipython3",
   "version": "3.6.4"
  }
 },
 "nbformat": 4,
 "nbformat_minor": 2
}