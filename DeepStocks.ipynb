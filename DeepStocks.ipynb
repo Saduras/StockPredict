{
 "cells": [
  {
   "cell_type": "code",
   "metadata": {},
   "outputs": [],
   "source": [
    "from keras.layers.core import Dense, Activation, Dropout\n",
    "from keras.layers.recurrent import LSTM\n",
    "from keras.models import Sequential\n",
    "\n",
    "import pandas_datareader.data as web\n",
    "import pandas as pd\n",
    "import datetime\n",
    "import time\n",
    "\n",
    "import numpy as np\n",
    "\n",
    "import fix_yahoo_finance as yf\n",
    "yf.pdr_override()\n",
    "\n",
    "import matplotlib.pyplot as plt\n",
    "%matplotlib inline"
   ]
  },
  {
   "cell_type": "code",
   "metadata": {},
   "outputs": [],
   "source": [
    "symbol = 'AAPL'\n",
    "end_date = datetime.date.today()\n",
    "start_date = end_date - datetime.timedelta( days = 3600 )\n",
    "path = './data/' + symbol + '_yahoo_' + str(start_date) + '_to_' + str(end_date) + '.csv'\n",
    "\n",
    "# save as csv\n",
    "\n",
    "# df = web.get_data_yahoo(symbol, start = start_date, end = end_date)\n",
    "# df.to_csv(path)"
   ]
  },
  {
   "cell_type": "code",
   "metadata": {},
   "outputs": [],
   "source": [
    "# load from csv\n",
    "df = pd.read_csv(path)\n",
    "df.head()"
   ]
  },
  {
   "cell_type": "code",
   "metadata": {},
   "outputs": [],
   "source": [
    "matrix = df.as_matrix(['Open'])\n",
    "\n",
    "# split into seuqences\n",
    "seq_len = 50\n",
    "\n",
    "sequences = []\n",
    "for i in range(len(matrix) - seq_len - 1):\n",
    "    sequences.append(matrix[i : i + seq_len + 1])\n",
    "\n",
    "# normalize\n",
    "for i in range(len(sequences)):\n",
    "    sequences[i] = sequences[i] / sequences[i][0] - 1\n",
    "\n",
    "sequences = np.array(sequences)"
   ]
  },
  {
   "cell_type": "code",
   "metadata": {},
   "outputs": [],
   "source": [
    "train_count = int(matrix.shape[0] * 0.9)\n",
    "X_train = sequences[:train_count, :-1]\n",
    "Y_train = sequences[:train_count, -1]\n",
    "X_test = sequences[train_count:, :-1]\n",
    "Y_test = sequences[train_count:, -1]\n",
    "\n",
    "print('X_train.shape: ',X_train.shape)"
   ]
  },
  {
   "cell_type": "code",
   "metadata": {},
   "outputs": [],
   "source": [
    "model = Sequential()\n",
    "\n",
    "model.add(LSTM(input_shape = X_train.shape[1:], units = 50, return_sequences = True, name='LSTM_1'))\n",
    "model.add(Dropout(0.2))\n",
    "\n",
    "model.add(LSTM(units = 100, return_sequences = False, name='LSTM_2'))\n",
    "model.add(Dropout(0.2))\n",
    "\n",
    "model.add(Dense(units = 1))\n",
    "model.add(Activation('linear'))\n",
    "\n",
    "start = time.time()\n",
    "model.compile(loss = 'mse', optimizer = 'rmsprop', metrics=['acc'])\n",
    "print('compilation time : ', time.time() - start)\n",
    "print(model.summary())"
   ]
  },
  {
   "cell_type": "code",
   "metadata": {},
   "outputs": [],
   "source": [
    "model.fit(X_train, Y_train, batch_size = 512, epochs = 1, validation_split = 0.05)"
   ]
  },
  {
   "cell_type": "code",
   "metadata": {},
   "outputs": [],
   "source": [
    "window_size = 50\n",
    "prediction_len = 50\n",
    "data = X_test\n",
    "\n",
    "prediction_seqs = []\n",
    "for i in range(int(len(data) /  prediction_len)):\n",
    "    curr_frame = data[i * prediction_len]\n",
    "    predicted = []\n",
    "    for j in range(prediction_len):\n",
    "        predicted.append(model.predict(curr_frame[np.newaxis,:,:])[0,0])\n",
    "        curr_frame = curr_frame[1:]\n",
    "        curr_frame = np.insert(curr_frame, [window_size-1], predicted[-1], axis=0)\n",
    "    prediction_seqs.append(predicted)"
   ]
  },
  {
   "cell_type": "code",
   "metadata": {},
   "outputs": [],
   "source": [
    "fig = plt.figure(facecolor='white')\n",
    "ax = fig.add_subplot(111)\n",
    "ax.plot(Y_test, label ='True Data')\n",
    "\n",
    "for i, data in enumerate(prediction_seqs):\n",
    "    padding = [None for p in range(i * prediction_len)]\n",
    "    plt.plot(padding + data, label ='Prediction')\n",
    "    plt.legend()\n",
    "plt.show()"
   ]
  },
  {
   "cell_type": "code",
   "metadata": {},
   "outputs": [],
   "source": []
  }
 ],
 "metadata": {
  "git": {
   "suppress_outputs": true
  },
  "kernelspec": {
   "display_name": "Python 3",
   "language": "python",
   "name": "python3"
  },
  "language_info": {
   "codemirror_mode": {
    "name": "ipython",
    "version": 3
   },
   "file_extension": ".py",
   "mimetype": "text/x-python",
   "name": "python",
   "nbconvert_exporter": "python",
   "pygments_lexer": "ipython3",
   "version": "3.6.4"
  }
 },
 "nbformat": 4,
 "nbformat_minor": 2
}